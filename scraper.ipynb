{
 "cells": [
  {
   "cell_type": "code",
   "execution_count": null,
   "metadata": {},
   "outputs": [
    {
     "name": "stdout",
     "output_type": "stream",
     "text": [
      "Requesting URL: https://help.community.com/hc/en-us/\n",
      "Response Status Code: 403\n",
      "Reponse  <Response [403]>\n"
     ]
    }
   ],
   "source": [
    "import requests\n",
    "from bs4 import BeautifulSoup\n",
    "from urllib.parse import urljoin, urlparse, urlunparse\n",
    "import os\n",
    "\n",
    "# Starting URL\n",
    "start_url = 'https://developer.community.com/reference/getting-started-with-your-api'\n",
    "base_url = 'https://developer.community.com/reference/'\n",
    "\n",
    "# Directory to save HTML files\n",
    "save_dir = 'scraped_html'\n",
    "os.makedirs(save_dir, exist_ok=True)\n",
    "\n",
    "# Function to save HTML content to a file\n",
    "def save_html(url, content):\n",
    "    filename = os.path.join(save_dir, url.replace(base_url, '').replace('/', '_') + '.html')\n",
    "    with open(filename, 'w', encoding='utf-8') as file:\n",
    "        file.write(content)\n",
    "\n",
    "# Function to remove the fragment part of the URL\n",
    "def remove_fragment(url):\n",
    "    parsed_url = urlparse(url)\n",
    "    return urlunparse(parsed_url._replace(fragment=''))\n",
    "\n",
    "# Function to scrape a URL\n",
    "def scrape(url, visited):\n",
    "    url = remove_fragment(url)\n",
    "    if url in visited:\n",
    "        return\n",
    "    visited.add(url)\n",
    "    \n",
    "    response = requests.get(url)\n",
    "    if response.status_code == 200:\n",
    "        save_html(url, response.text)\n",
    "        soup = BeautifulSoup(response.text, 'html.parser')\n",
    "        \n",
    "        # Find all subsequent links\n",
    "        for link in soup.find_all('a', href=True):\n",
    "            full_url = urljoin(base_url, link['href'])\n",
    "            if full_url.startswith(base_url):\n",
    "                scrape(remove_fragment(full_url), visited)\n",
    "\n",
    "# Set to keep track of visited URLs\n",
    "visited_urls = set()\n",
    "\n",
    "# Start scraping\n",
    "scrape(start_url, visited_urls)"
   ]
  },
  {
   "cell_type": "code",
   "execution_count": 17,
   "metadata": {},
   "outputs": [],
   "source": [
    "from bs4 import BeautifulSoup\n",
    "import markdownify\n",
    "import os\n",
    "\n",
    "# Directory containing the scraped HTML files\n",
    "html_dir = 'scraped_html'\n",
    "# Directory to save the markdown files\n",
    "markdown_dir = 'markdown_files'\n",
    "os.makedirs(markdown_dir, exist_ok=True)\n",
    "\n",
    "# Function to convert HTML content to Markdown and save it\n",
    "def convert_html_to_markdown(html_file):\n",
    "    with open(html_file, 'r', encoding='utf-8') as file:\n",
    "        soup = BeautifulSoup(file, 'html.parser')\n",
    "        article_content = soup.find('article')\n",
    "        if article_content:\n",
    "            markdown_content = markdownify.markdownify(str(article_content), heading_style=\"ATX\")\n",
    "            markdown_filename = os.path.join(markdown_dir, os.path.basename(html_file).replace('.html', '.md'))\n",
    "            with open(markdown_filename, 'w', encoding='utf-8') as md_file:\n",
    "                md_file.write(markdown_content)\n",
    "\n",
    "# Iterate over all HTML files in the directory and convert them\n",
    "for html_file in os.listdir(html_dir):\n",
    "    if html_file.endswith('.html'):\n",
    "        convert_html_to_markdown(os.path.join(html_dir, html_file))"
   ]
  },
  {
   "cell_type": "code",
   "execution_count": 37,
   "metadata": {},
   "outputs": [],
   "source": [
    "import os\n",
    "import openai\n",
    "\n",
    "# Function to load environment variables from a .env file\n",
    "def load_env_file(env_file):\n",
    "    with open(env_file, 'r') as file:\n",
    "        for line in file:\n",
    "            if line.strip() and not line.startswith('#'):\n",
    "                key, value = line.strip().split('=', 1)\n",
    "                os.environ[key] = value\n",
    "\n",
    "# Load the .env file\n",
    "load_env_file('.env')"
   ]
  },
  {
   "cell_type": "code",
   "execution_count": 50,
   "metadata": {},
   "outputs": [
    {
     "name": "stdout",
     "output_type": "stream",
     "text": [
      "Uploaded markdown_files/salesforce.md: file-s1yZU3Zc0LVK0NPxuRyEibpf\n",
      "Uploaded markdown_files/webhook-api-introduction.md: file-KXtny0vXGDJR2uc8qNvnpdsL\n",
      "Uploaded markdown_files/opt-out-member.md: file-YQN0GEE5EFdnwn48cj5UGKPD\n",
      "Uploaded markdown_files/send-message.md: file-1VIGb3cvsTv3xaWBcfx3cGVb\n",
      "Uploaded markdown_files/getting-started-with-your-api.md: file-CHepcwViZSqZedMdcxfPCap4\n",
      "Uploaded markdown_files/upsert-member.md: file-Ejk8XynV7AkWKvVB4KjfBJ9T\n",
      "Uploaded markdown_files/webhook-api-authentication.md: file-cGLgzmwxJ8HVlggQEhmbx9R4\n",
      "Uploaded markdown_files/tag-delete.md: file-76JR6ik62hMHeSxbchArUsPh\n",
      "Uploaded markdown_files/formstack.md: file-2HowqEchKVQcr68iQveiecjG\n",
      "Uploaded markdown_files/zapier.md: file-4tDdq8V9FpZQ6F3xOrypQ4x6\n",
      "Uploaded markdown_files/data-export-introduction.md: file-LdfJotBabhSFiafFPUFqM05x\n",
      "Uploaded markdown_files/community-member-states.md: file-sHCIuBWOPUrWKmVxnEXxB52y\n",
      "Uploaded markdown_files/data-export-api-downloading-data.md: file-Wyo48p8TJE6jkkxA9ZmcXlYK\n",
      "Uploaded markdown_files/tag-create.md: file-TP2Fe6vTJJ18EFtqYXPX7ftD\n",
      "Uploaded markdown_files/tag-update.md: file-s3xf9uumQfrLWwDhT7ATP8da\n",
      "Uploaded markdown_files/change-community-membership.md: file-iS03PcofGhWjtcoNsStVrR0V\n",
      "Uploaded markdown_files/index.md: file-IRQ9iVaJ8kgKrF9HtOBh9lnM\n",
      "Uploaded markdown_files/data-export-api-authentication.md: file-ZoWbBn7MJavO5FYUyCVz5mT3\n",
      "Uploaded markdown_files/adobe-journey-optimizer.md: file-3aLMzliM09PACKgtObWxsxtA\n",
      "Uploaded markdown_files/shopify.md: file-1aC1RJMeAgHGEnuoe5e8vBUK\n",
      "Uploaded markdown_files/upsert-member-custom-data.md: file-3GL1JKrqG1rkSYUVDMv7fFc4\n",
      "Uploaded markdown_files/webhooks-introduction.md: file-1z74vTSL9APkRV3NSPLrrT5s\n",
      "Uploaded markdown_files/signup-form-integrations.md: file-MAQ8nLQjezSI6iMDUtNO3dTg\n",
      "All files uploaded successfully.\n"
     ]
    }
   ],
   "source": [
    "import os\n",
    "import openai\n",
    "\n",
    "# Load the OpenAI API key from the environment variable\n",
    "openai.api_key = os.getenv('OPENAI_API_KEY')\n",
    "\n",
    "# Directory containing the Markdown files\n",
    "markdown_dir = 'markdown_files'\n",
    "\n",
    "# Log file to save file_ids\n",
    "log_file_path = 'uploaded_files_log.txt'\n",
    "\n",
    "# Function to upload file to OpenAI\n",
    "def upload_file_to_openai(file_path, purpose):\n",
    "    with open(file_path, 'rb') as file:\n",
    "        response = openai.files.create(\n",
    "            file=file,\n",
    "            purpose=purpose\n",
    "        )\n",
    "    return response\n",
    "\n",
    "file_ids_for_vs = []\n",
    "\n",
    "# Iterate over all Markdown files in the directory and upload\n",
    "with open(log_file_path, 'a', encoding='utf-8') as log_file:\n",
    "    for markdown_file in os.listdir(markdown_dir):\n",
    "        if markdown_file.endswith('.md'):\n",
    "            file_path = os.path.join(markdown_dir, markdown_file)\n",
    "            \n",
    "            # Upload Markdown file to OpenAI\n",
    "            response = upload_file_to_openai(file_path, 'assistants')\n",
    "            file_id = response.id\n",
    "            file_ids_for_vs.append(file_id)\n",
    "            log_file.write(f\"{file_path}: {file_id}\\n\")\n",
    "            print(f\"Uploaded {file_path}: {file_id}\")\n",
    "\n",
    "print(\"All files uploaded successfully.\")"
   ]
  },
  {
   "cell_type": "code",
   "execution_count": 51,
   "metadata": {},
   "outputs": [
    {
     "name": "stdout",
     "output_type": "stream",
     "text": [
      "VectorStore(id='vs_jerRxASjrMr8RjWvd9X1Tw67', created_at=1730815163, file_counts=FileCounts(cancelled=0, completed=0, failed=0, in_progress=23, total=23), last_active_at=1730815163, metadata={}, name='Community API Reference', object='vector_store', status='in_progress', usage_bytes=0, expires_after=None, expires_at=None)\n",
      "vs_jerRxASjrMr8RjWvd9X1Tw67\n"
     ]
    }
   ],
   "source": [
    "import os\n",
    "import openai\n",
    "\n",
    "# Load the OpenAI API key from the environment variable\n",
    "openai.api_key = os.getenv('OPENAI_API_KEY')\n",
    "\n",
    "# Create a vector store using the collected file IDs\n",
    "vector_store = openai.beta.vector_stores.create(\n",
    "    name=\"Community API Reference\",\n",
    "    file_ids=file_ids_for_vs\n",
    ")\n",
    "\n",
    "print(vector_store)\n",
    "print(vector_store.id)"
   ]
  },
  {
   "cell_type": "code",
   "execution_count": 60,
   "metadata": {},
   "outputs": [
    {
     "name": "stdout",
     "output_type": "stream",
     "text": [
      "completed\n",
      "completed 23\n",
      "in progress 0\n",
      "total 23\n"
     ]
    }
   ],
   "source": [
    "from time import sleep\n",
    "\n",
    "embeddings_finished = False\n",
    "\n",
    "while embeddings_finished == False:\n",
    "    vector_store_status = openai.beta.vector_stores.retrieve(vector_store.id)\n",
    "    if vector_store_status.status == 'completed':\n",
    "        print(vector_store_status.status)\n",
    "        print(f\"completed {vector_store_status.file_counts.completed}\")\n",
    "        print(f\"in progress {vector_store_status.file_counts.in_progress}\")\n",
    "        print(f\"total {vector_store_status.file_counts.total}\")\n",
    "        embeddings_finished = True\n",
    "        break\n",
    "    sleep(10)"
   ]
  },
  {
   "cell_type": "code",
   "execution_count": null,
   "metadata": {},
   "outputs": [],
   "source": []
  }
 ],
 "metadata": {
  "kernelspec": {
   "display_name": ".venv",
   "language": "python",
   "name": "python3"
  },
  "language_info": {
   "codemirror_mode": {
    "name": "ipython",
    "version": 3
   },
   "file_extension": ".py",
   "mimetype": "text/x-python",
   "name": "python",
   "nbconvert_exporter": "python",
   "pygments_lexer": "ipython3",
   "version": "3.12.3"
  }
 },
 "nbformat": 4,
 "nbformat_minor": 2
}
